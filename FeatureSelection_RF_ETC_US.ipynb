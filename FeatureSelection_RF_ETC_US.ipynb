{
 "cells": [
  {
   "cell_type": "code",
   "execution_count": 49,
   "metadata": {},
   "outputs": [],
   "source": [
    "import pandas as pd\n",
    "import numpy as np\n",
    "from sklearn.feature_selection import SelectKBest\n",
    "from sklearn.feature_selection import chi2\n",
    "import seaborn as sns\n",
    "from sklearn.ensemble import RandomForestRegressor\n",
    "from sklearn.preprocessing import StandardScaler\n",
    "import matplotlib.pyplot as plt"
   ]
  },
  {
   "cell_type": "code",
   "execution_count": 50,
   "metadata": {},
   "outputs": [],
   "source": [
    "# Read Whole Dataset\n",
    "df= pd.read_csv('All_Data_Clean.csv')"
   ]
  },
  {
   "cell_type": "code",
   "execution_count": 51,
   "metadata": {},
   "outputs": [
    {
     "data": {
      "text/html": [
       "<div>\n",
       "<style scoped>\n",
       "    .dataframe tbody tr th:only-of-type {\n",
       "        vertical-align: middle;\n",
       "    }\n",
       "\n",
       "    .dataframe tbody tr th {\n",
       "        vertical-align: top;\n",
       "    }\n",
       "\n",
       "    .dataframe thead th {\n",
       "        text-align: right;\n",
       "    }\n",
       "</style>\n",
       "<table border=\"1\" class=\"dataframe\">\n",
       "  <thead>\n",
       "    <tr style=\"text-align: right;\">\n",
       "      <th></th>\n",
       "      <th>ACYEAR</th>\n",
       "      <th>F_INSTID</th>\n",
       "      <th>F_ZDLEV501</th>\n",
       "      <th>F_XQMODE01</th>\n",
       "      <th>F_XAGRPJ01</th>\n",
       "      <th>F_SEXID</th>\n",
       "      <th>f_XJACS01_1level</th>\n",
       "      <th>F_XCL6SS01</th>\n",
       "      <th>F_XSTUDIS01</th>\n",
       "      <th>F_XQUALENT01</th>\n",
       "      <th>F_TARIFF_numeric</th>\n",
       "      <th>F_XACTIV02</th>\n",
       "      <th>F_SOC</th>\n",
       "      <th>F_XSIC202</th>\n",
       "    </tr>\n",
       "  </thead>\n",
       "  <tbody>\n",
       "    <tr>\n",
       "      <td>0</td>\n",
       "      <td>Thirdteen</td>\n",
       "      <td>SRUC</td>\n",
       "      <td>4</td>\n",
       "      <td>Full-time</td>\n",
       "      <td>17 years and under</td>\n",
       "      <td>Male</td>\n",
       "      <td>N</td>\n",
       "      <td>7</td>\n",
       "      <td>J</td>\n",
       "      <td>F</td>\n",
       "      <td>11</td>\n",
       "      <td>Full-time work</td>\n",
       "      <td>Other managers and proprietors</td>\n",
       "      <td>Crop and animal production</td>\n",
       "    </tr>\n",
       "    <tr>\n",
       "      <td>1</td>\n",
       "      <td>Thirdteen</td>\n",
       "      <td>SRUC</td>\n",
       "      <td>4</td>\n",
       "      <td>Full-time</td>\n",
       "      <td>17 years and under</td>\n",
       "      <td>Male</td>\n",
       "      <td>N</td>\n",
       "      <td>7</td>\n",
       "      <td>J</td>\n",
       "      <td>I</td>\n",
       "      <td>22</td>\n",
       "      <td>Full-time work</td>\n",
       "      <td>Other managers and proprietors</td>\n",
       "      <td>Crop and animal production</td>\n",
       "    </tr>\n",
       "    <tr>\n",
       "      <td>2</td>\n",
       "      <td>Thirdteen</td>\n",
       "      <td>Harper Adams University</td>\n",
       "      <td>4</td>\n",
       "      <td>Full-time</td>\n",
       "      <td>18-20 years</td>\n",
       "      <td>Male</td>\n",
       "      <td>N</td>\n",
       "      <td>7</td>\n",
       "      <td>J</td>\n",
       "      <td>F</td>\n",
       "      <td>15</td>\n",
       "      <td>Full-time work</td>\n",
       "      <td>Other managers and proprietors</td>\n",
       "      <td>Crop and animal production</td>\n",
       "    </tr>\n",
       "    <tr>\n",
       "      <td>3</td>\n",
       "      <td>Thirdteen</td>\n",
       "      <td>Harper Adams University</td>\n",
       "      <td>4</td>\n",
       "      <td>Full-time</td>\n",
       "      <td>18-20 years</td>\n",
       "      <td>Female</td>\n",
       "      <td>L</td>\n",
       "      <td>7</td>\n",
       "      <td>J</td>\n",
       "      <td>F</td>\n",
       "      <td>17</td>\n",
       "      <td>Full-time work</td>\n",
       "      <td>Other managers and proprietors</td>\n",
       "      <td>Crop and animal production</td>\n",
       "    </tr>\n",
       "    <tr>\n",
       "      <td>4</td>\n",
       "      <td>Thirdteen</td>\n",
       "      <td>University of Plymouth</td>\n",
       "      <td>4</td>\n",
       "      <td>Full-time</td>\n",
       "      <td>18-20 years</td>\n",
       "      <td>Male</td>\n",
       "      <td>N</td>\n",
       "      <td>7</td>\n",
       "      <td>J</td>\n",
       "      <td>F</td>\n",
       "      <td>23</td>\n",
       "      <td>Full-time work</td>\n",
       "      <td>Science, research, engineering and technology ...</td>\n",
       "      <td>Crop and animal production</td>\n",
       "    </tr>\n",
       "  </tbody>\n",
       "</table>\n",
       "</div>"
      ],
      "text/plain": [
       "      ACYEAR                 F_INSTID  F_ZDLEV501 F_XQMODE01  \\\n",
       "0  Thirdteen                     SRUC           4  Full-time   \n",
       "1  Thirdteen                     SRUC           4  Full-time   \n",
       "2  Thirdteen  Harper Adams University           4  Full-time   \n",
       "3  Thirdteen  Harper Adams University           4  Full-time   \n",
       "4  Thirdteen   University of Plymouth           4  Full-time   \n",
       "\n",
       "           F_XAGRPJ01 F_SEXID f_XJACS01_1level  F_XCL6SS01 F_XSTUDIS01  \\\n",
       "0  17 years and under    Male                N           7           J   \n",
       "1  17 years and under    Male                N           7           J   \n",
       "2         18-20 years    Male                N           7           J   \n",
       "3         18-20 years  Female                L           7           J   \n",
       "4         18-20 years    Male                N           7           J   \n",
       "\n",
       "  F_XQUALENT01  F_TARIFF_numeric      F_XACTIV02  \\\n",
       "0            F                11  Full-time work   \n",
       "1            I                22  Full-time work   \n",
       "2            F                15  Full-time work   \n",
       "3            F                17  Full-time work   \n",
       "4            F                23  Full-time work   \n",
       "\n",
       "                                               F_SOC  \\\n",
       "0                     Other managers and proprietors   \n",
       "1                     Other managers and proprietors   \n",
       "2                     Other managers and proprietors   \n",
       "3                     Other managers and proprietors   \n",
       "4  Science, research, engineering and technology ...   \n",
       "\n",
       "                    F_XSIC202  \n",
       "0  Crop and animal production  \n",
       "1  Crop and animal production  \n",
       "2  Crop and animal production  \n",
       "3  Crop and animal production  \n",
       "4  Crop and animal production  "
      ]
     },
     "execution_count": 51,
     "metadata": {},
     "output_type": "execute_result"
    }
   ],
   "source": [
    "# Display whole dataset\n",
    "df.head()"
   ]
  },
  {
   "cell_type": "code",
   "execution_count": 52,
   "metadata": {},
   "outputs": [],
   "source": [
    "# Convert all variables to the category before applying one hote encoding. \n",
    "# Category variable is for categorical variables.\n",
    "df = df.astype('category')"
   ]
  },
  {
   "cell_type": "code",
   "execution_count": 53,
   "metadata": {},
   "outputs": [
    {
     "name": "stdout",
     "output_type": "stream",
     "text": [
      "<class 'pandas.core.frame.DataFrame'>\n",
      "RangeIndex: 270934 entries, 0 to 270933\n",
      "Data columns (total 14 columns):\n",
      "ACYEAR              270934 non-null category\n",
      "F_INSTID            270934 non-null category\n",
      "F_ZDLEV501          270934 non-null category\n",
      "F_XQMODE01          270934 non-null category\n",
      "F_XAGRPJ01          270934 non-null category\n",
      "F_SEXID             270934 non-null category\n",
      "f_XJACS01_1level    270934 non-null category\n",
      "F_XCL6SS01          270934 non-null category\n",
      "F_XSTUDIS01         270934 non-null category\n",
      "F_XQUALENT01        270934 non-null category\n",
      "F_TARIFF_numeric    270934 non-null category\n",
      "F_XACTIV02          270934 non-null category\n",
      "F_SOC               270934 non-null category\n",
      "F_XSIC202           270934 non-null category\n",
      "dtypes: category(14)\n",
      "memory usage: 3.9 MB\n"
     ]
    }
   ],
   "source": [
    "# Check your data\n",
    "df.info()"
   ]
  },
  {
   "cell_type": "code",
   "execution_count": 54,
   "metadata": {},
   "outputs": [],
   "source": [
    "# Create the data set with data for y, by dropping targetted columns\n",
    "df5 = df.drop(['F_XACTIV02','F_SOC','F_XSIC202'], axis=1)\n"
   ]
  },
  {
   "cell_type": "code",
   "execution_count": 55,
   "metadata": {},
   "outputs": [],
   "source": [
    "df1 = pd.read_csv('All_Data_Clean.csv')"
   ]
  },
  {
   "cell_type": "code",
   "execution_count": 56,
   "metadata": {},
   "outputs": [],
   "source": [
    "# Create the data set with data for x, by dropping targetted columns\n",
    "#df2 = df1.drop(['ACYEAR','F_INSTID','F_ZDLEV501','F_XQMODE01','F_XAGRPJ01','F_SEXID','f_XJACS01_1level','f_XJACS01_1level',\n",
    "             #'F_XCL6SS01','F_XSTUDIS01','F_XQUALENT01','F_TARIFF_numeric'], axis= 1)\n",
    "#df_activity = df.drop(['ACYEAR','F_INSTID','F_ZDLEV501','F_XQMODE01','F_XAGRPJ01','F_SEXID','f_XJACS01_1level','f_XJACS01_1level',\n",
    "             #'F_XCL6SS01','F_XSTUDIS01','F_XQUALENT01','F_TARIFF_numeric','F_SOC','F_XSIC202'], axis= 1)\n",
    "df_job = df.drop(['ACYEAR','F_INSTID','F_ZDLEV501','F_XQMODE01','F_XAGRPJ01','F_SEXID','f_XJACS01_1level','f_XJACS01_1level',\n",
    "             'F_XCL6SS01','F_XSTUDIS01','F_XQUALENT01','F_TARIFF_numeric','F_XACTIV02','F_XSIC202'], axis= 1)\n",
    "#df_industry = df.drop(['ACYEAR','F_INSTID','F_ZDLEV501','F_XQMODE01','F_XAGRPJ01','F_SEXID','f_XJACS01_1level','f_XJACS01_1level',\n",
    "             #'F_XCL6SS01','F_XSTUDIS01','F_XQUALENT01','F_TARIFF_numeric','F_XACTIV02','F_SOC',], axis= 1)"
   ]
  },
  {
   "cell_type": "code",
   "execution_count": 57,
   "metadata": {},
   "outputs": [
    {
     "name": "stdout",
     "output_type": "stream",
     "text": [
      "<class 'pandas.core.frame.DataFrame'>\n",
      "RangeIndex: 270934 entries, 0 to 270933\n",
      "Data columns (total 3 columns):\n",
      "F_XACTIV02    270934 non-null object\n",
      "F_SOC         270934 non-null object\n",
      "F_XSIC202     270934 non-null object\n",
      "dtypes: object(3)\n",
      "memory usage: 6.2+ MB\n"
     ]
    }
   ],
   "source": [
    "# Check if you selected proper data\n",
    "df2.info()"
   ]
  },
  {
   "cell_type": "code",
   "execution_count": 58,
   "metadata": {},
   "outputs": [],
   "source": [
    "#df_activity.info()\n",
    "#df_job.info()\n",
    "#df_industry.info()"
   ]
  },
  {
   "cell_type": "code",
   "execution_count": 59,
   "metadata": {},
   "outputs": [],
   "source": [
    "# Create a y dataset by converting df2 to the dummies (one-hot)\n",
    "#y = pd.get_dummies(df2)\n",
    "# Creat a dummies for just activity\n",
    "#y = pd.get_dummies(df_activity)\n",
    "# Create a dummies for just job\n",
    "y = pd.get_dummies(df_job)\n",
    "# Create a dummies for just Industry\n",
    "#y = pd.get_dummies(df_industry)"
   ]
  },
  {
   "cell_type": "code",
   "execution_count": 60,
   "metadata": {},
   "outputs": [
    {
     "name": "stdout",
     "output_type": "stream",
     "text": [
      "<class 'pandas.core.frame.DataFrame'>\n",
      "RangeIndex: 270934 entries, 0 to 270933\n",
      "Data columns (total 24 columns):\n",
      "F_SOC_Administrative occupations                                     270934 non-null uint8\n",
      "F_SOC_Business and public service associate professionals            270934 non-null uint8\n",
      "F_SOC_Business, media and public service professionals               270934 non-null uint8\n",
      "F_SOC_Caring personal service occupations                            270934 non-null uint8\n",
      "F_SOC_Corporate managers and directors                               270934 non-null uint8\n",
      "F_SOC_Culture, media and sports occupations                          270934 non-null uint8\n",
      "F_SOC_Customer service occupations                                   270934 non-null uint8\n",
      "F_SOC_Elementary administration and service occupations              270934 non-null uint8\n",
      "F_SOC_Elementary trades and related occupations                      270934 non-null uint8\n",
      "F_SOC_Health and social care associate professionals                 270934 non-null uint8\n",
      "F_SOC_Health professionals                                           270934 non-null uint8\n",
      "F_SOC_Leisure, travel and related personal service occupations       270934 non-null uint8\n",
      "F_SOC_Other managers and proprietors                                 270934 non-null uint8\n",
      "F_SOC_Process, plant and machine operatives                          270934 non-null uint8\n",
      "F_SOC_Protective service occupations                                 270934 non-null uint8\n",
      "F_SOC_Sales occupations                                              270934 non-null uint8\n",
      "F_SOC_Science, research, engineering and technology professionals    270934 non-null uint8\n",
      "F_SOC_Secretarial and related occupations                            270934 non-null uint8\n",
      "F_SOC_Skilled agricultural and related trades                        270934 non-null uint8\n",
      "F_SOC_Skilled construction and building trades                       270934 non-null uint8\n",
      "F_SOC_Skilled metal, electrical and electronic trades                270934 non-null uint8\n",
      "F_SOC_Textiles, printing and other skilled trades                    270934 non-null uint8\n",
      "F_SOC_Transport and mobile machine drivers and operatives            270934 non-null uint8\n",
      "F_SOC_Uknown                                                         270934 non-null uint8\n",
      "dtypes: uint8(24)\n",
      "memory usage: 6.2 MB\n"
     ]
    }
   ],
   "source": [
    "y.info()"
   ]
  },
  {
   "cell_type": "code",
   "execution_count": 33,
   "metadata": {},
   "outputs": [],
   "source": [
    "# Drop Other form the Activity data set\n",
    "#y = y.drop(['F_XACTIV02_Other'], axis=1)"
   ]
  },
  {
   "cell_type": "code",
   "execution_count": 61,
   "metadata": {},
   "outputs": [],
   "source": [
    "# Drop unknown form the Job data set\n",
    "y = y.drop(['F_SOC_Uknown'], axis=1)"
   ]
  },
  {
   "cell_type": "code",
   "execution_count": 62,
   "metadata": {},
   "outputs": [],
   "source": [
    "# drop F_XSIC202_Not known/ not applicable from industry dataset\n",
    "#y = y.drop(['F_XSIC202_Not known/ not applicable'], axis=1)"
   ]
  },
  {
   "cell_type": "code",
   "execution_count": 63,
   "metadata": {},
   "outputs": [],
   "source": [
    "# drop F_XSIC202_Not known/ not applicable and F_SOC_Uknown from all 3 dependent from industry dataset\n",
    "#y = y.drop(['F_XSIC202_Not known/ not applicable','F_SOC_Uknown','F_XACTIV02_Other'], axis=1)"
   ]
  },
  {
   "cell_type": "code",
   "execution_count": 64,
   "metadata": {},
   "outputs": [
    {
     "name": "stdout",
     "output_type": "stream",
     "text": [
      "<class 'pandas.core.frame.DataFrame'>\n",
      "RangeIndex: 270934 entries, 0 to 270933\n",
      "Data columns (total 23 columns):\n",
      "F_SOC_Administrative occupations                                     270934 non-null uint8\n",
      "F_SOC_Business and public service associate professionals            270934 non-null uint8\n",
      "F_SOC_Business, media and public service professionals               270934 non-null uint8\n",
      "F_SOC_Caring personal service occupations                            270934 non-null uint8\n",
      "F_SOC_Corporate managers and directors                               270934 non-null uint8\n",
      "F_SOC_Culture, media and sports occupations                          270934 non-null uint8\n",
      "F_SOC_Customer service occupations                                   270934 non-null uint8\n",
      "F_SOC_Elementary administration and service occupations              270934 non-null uint8\n",
      "F_SOC_Elementary trades and related occupations                      270934 non-null uint8\n",
      "F_SOC_Health and social care associate professionals                 270934 non-null uint8\n",
      "F_SOC_Health professionals                                           270934 non-null uint8\n",
      "F_SOC_Leisure, travel and related personal service occupations       270934 non-null uint8\n",
      "F_SOC_Other managers and proprietors                                 270934 non-null uint8\n",
      "F_SOC_Process, plant and machine operatives                          270934 non-null uint8\n",
      "F_SOC_Protective service occupations                                 270934 non-null uint8\n",
      "F_SOC_Sales occupations                                              270934 non-null uint8\n",
      "F_SOC_Science, research, engineering and technology professionals    270934 non-null uint8\n",
      "F_SOC_Secretarial and related occupations                            270934 non-null uint8\n",
      "F_SOC_Skilled agricultural and related trades                        270934 non-null uint8\n",
      "F_SOC_Skilled construction and building trades                       270934 non-null uint8\n",
      "F_SOC_Skilled metal, electrical and electronic trades                270934 non-null uint8\n",
      "F_SOC_Textiles, printing and other skilled trades                    270934 non-null uint8\n",
      "F_SOC_Transport and mobile machine drivers and operatives            270934 non-null uint8\n",
      "dtypes: uint8(23)\n",
      "memory usage: 5.9 MB\n"
     ]
    }
   ],
   "source": [
    "y.info()"
   ]
  },
  {
   "cell_type": "code",
   "execution_count": 65,
   "metadata": {},
   "outputs": [],
   "source": [
    "# Save the y data in the csv file\n",
    "#y.to_csv('onehote_dependent_RandomF.csv')"
   ]
  },
  {
   "cell_type": "code",
   "execution_count": 66,
   "metadata": {},
   "outputs": [],
   "source": [
    "# Read the activity\n",
    "#y.to_csv('onehote_dependent_Activity.csv')"
   ]
  },
  {
   "cell_type": "code",
   "execution_count": 67,
   "metadata": {},
   "outputs": [],
   "source": [
    "#y.to_csv('onehote_dependent_Job.csv')"
   ]
  },
  {
   "cell_type": "code",
   "execution_count": 68,
   "metadata": {},
   "outputs": [],
   "source": [
    "#y.to_csv('onehote_dependent_Industry.csv')"
   ]
  },
  {
   "cell_type": "code",
   "execution_count": 69,
   "metadata": {},
   "outputs": [],
   "source": [
    "# Read the X data from the csv file\n",
    "#y = pd.read_csv('onehote_dependent_RandomF.csv', index_col=False)\n",
    "#y = pd.read_csv('onehote_dependent_Activity.csv', index_col=False)\n",
    "#y = pd.read_csv('onehote_dependent_Job.csv', index_col=False)\n",
    "#y = pd.read_csv('onehote_dependent_Industry.csv', index_col=False)"
   ]
  },
  {
   "cell_type": "code",
   "execution_count": 70,
   "metadata": {},
   "outputs": [
    {
     "name": "stdout",
     "output_type": "stream",
     "text": [
      "<class 'pandas.core.frame.DataFrame'>\n",
      "RangeIndex: 270934 entries, 0 to 270933\n",
      "Data columns (total 23 columns):\n",
      "F_SOC_Administrative occupations                                     270934 non-null uint8\n",
      "F_SOC_Business and public service associate professionals            270934 non-null uint8\n",
      "F_SOC_Business, media and public service professionals               270934 non-null uint8\n",
      "F_SOC_Caring personal service occupations                            270934 non-null uint8\n",
      "F_SOC_Corporate managers and directors                               270934 non-null uint8\n",
      "F_SOC_Culture, media and sports occupations                          270934 non-null uint8\n",
      "F_SOC_Customer service occupations                                   270934 non-null uint8\n",
      "F_SOC_Elementary administration and service occupations              270934 non-null uint8\n",
      "F_SOC_Elementary trades and related occupations                      270934 non-null uint8\n",
      "F_SOC_Health and social care associate professionals                 270934 non-null uint8\n",
      "F_SOC_Health professionals                                           270934 non-null uint8\n",
      "F_SOC_Leisure, travel and related personal service occupations       270934 non-null uint8\n",
      "F_SOC_Other managers and proprietors                                 270934 non-null uint8\n",
      "F_SOC_Process, plant and machine operatives                          270934 non-null uint8\n",
      "F_SOC_Protective service occupations                                 270934 non-null uint8\n",
      "F_SOC_Sales occupations                                              270934 non-null uint8\n",
      "F_SOC_Science, research, engineering and technology professionals    270934 non-null uint8\n",
      "F_SOC_Secretarial and related occupations                            270934 non-null uint8\n",
      "F_SOC_Skilled agricultural and related trades                        270934 non-null uint8\n",
      "F_SOC_Skilled construction and building trades                       270934 non-null uint8\n",
      "F_SOC_Skilled metal, electrical and electronic trades                270934 non-null uint8\n",
      "F_SOC_Textiles, printing and other skilled trades                    270934 non-null uint8\n",
      "F_SOC_Transport and mobile machine drivers and operatives            270934 non-null uint8\n",
      "dtypes: uint8(23)\n",
      "memory usage: 5.9 MB\n"
     ]
    }
   ],
   "source": [
    "# Display the y data\n",
    "y.info()"
   ]
  },
  {
   "cell_type": "code",
   "execution_count": 71,
   "metadata": {},
   "outputs": [
    {
     "name": "stdout",
     "output_type": "stream",
     "text": [
      "<class 'pandas.core.frame.DataFrame'>\n",
      "RangeIndex: 270934 entries, 0 to 270933\n",
      "Data columns (total 11 columns):\n",
      "ACYEAR              270934 non-null category\n",
      "F_INSTID            270934 non-null category\n",
      "F_ZDLEV501          270934 non-null category\n",
      "F_XQMODE01          270934 non-null category\n",
      "F_XAGRPJ01          270934 non-null category\n",
      "F_SEXID             270934 non-null category\n",
      "f_XJACS01_1level    270934 non-null category\n",
      "F_XCL6SS01          270934 non-null category\n",
      "F_XSTUDIS01         270934 non-null category\n",
      "F_XQUALENT01        270934 non-null category\n",
      "F_TARIFF_numeric    270934 non-null category\n",
      "dtypes: category(11)\n",
      "memory usage: 3.1 MB\n"
     ]
    }
   ],
   "source": [
    "# Display the df5 data\n",
    "df5.info()"
   ]
  },
  {
   "cell_type": "code",
   "execution_count": 72,
   "metadata": {},
   "outputs": [],
   "source": [
    "X = pd.get_dummies(df5)"
   ]
  },
  {
   "cell_type": "code",
   "execution_count": 73,
   "metadata": {},
   "outputs": [
    {
     "name": "stdout",
     "output_type": "stream",
     "text": [
      "<class 'pandas.core.frame.DataFrame'>\n",
      "RangeIndex: 270934 entries, 0 to 270933\n",
      "Columns: 248 entries, ACYEAR_Fiveteen to F_TARIFF_numeric_23\n",
      "dtypes: uint8(248)\n",
      "memory usage: 64.1 MB\n"
     ]
    }
   ],
   "source": [
    "X.info()"
   ]
  },
  {
   "cell_type": "code",
   "execution_count": 74,
   "metadata": {},
   "outputs": [],
   "source": [
    "# Save the y data in the csv file\n",
    "#X.to_csv('onehote_dependent_RandomF.csv')\n"
   ]
  },
  {
   "cell_type": "code",
   "execution_count": 75,
   "metadata": {},
   "outputs": [],
   "source": [
    "# read the y dataset\n",
    "#X = pd.read_csv('onehote_dependent_RandomF.csv', index_col=False)\n"
   ]
  },
  {
   "cell_type": "code",
   "execution_count": 76,
   "metadata": {},
   "outputs": [
    {
     "name": "stderr",
     "output_type": "stream",
     "text": [
      "C:\\Users\\4kadut15\\Anaconda3\\lib\\site-packages\\sklearn\\ensemble\\forest.py:245: FutureWarning: The default value of n_estimators will change from 10 in version 0.20 to 100 in 0.22.\n",
      "  \"10 in version 0.20 to 100 in 0.22.\", FutureWarning)\n"
     ]
    },
    {
     "data": {
      "image/png": "[encoded data removed]",
      "text/plain": [
       "<Figure size 432x288 with 1 Axes>"
      ]
     },
     "metadata": {
      "needs_background": "light"
     },
     "output_type": "display_data"
    }
   ],
   "source": [
    "# =============================================================================\n",
    "# RANDOM FOREST\n",
    "# =============================================================================\n",
    "model = RandomForestRegressor(random_state=1, max_depth=20)\n",
    "# Rum the model\n",
    "model.fit(X,y)\n",
    "features = X.columns\n",
    "importances = model.feature_importances_\n",
    "indices = np.argsort(importances)[-20:]  # top features\n",
    "plt.title('Feature Importances')\n",
    "plt.barh(range(len(indices)), importances[indices], color='b', align='center')\n",
    "plt.yticks(range(len(indices)), [features[i] for i in indices])\n",
    "plt.xlabel('Relative Importance')\n",
    "plt.show()"
   ]
  },
  {
   "cell_type": "code",
   "execution_count": 208,
   "metadata": {},
   "outputs": [
    {
     "name": "stderr",
     "output_type": "stream",
     "text": [
      "C:\\Users\\4kadut15\\Anaconda3\\lib\\site-packages\\sklearn\\ensemble\\forest.py:245: FutureWarning: The default value of n_estimators will change from 10 in version 0.20 to 100 in 0.22.\n",
      "  \"10 in version 0.20 to 100 in 0.22.\", FutureWarning)\n"
     ]
    },
    {
     "name": "stdout",
     "output_type": "stream",
     "text": [
      "[1.09835193e-02 1.05428721e-02 1.13014908e-02 1.09592704e-02\n",
      " 1.06616203e-02 3.10076603e-03 1.80534744e-03 3.27155299e-03\n",
      " 1.41989954e-03 2.62475888e-03 2.23421191e-03 1.44000853e-03\n",
      " 3.32824309e-03 1.39934665e-03 3.18116232e-03 2.51468061e-03\n",
      " 2.35761207e-03 2.93702906e-03 2.16948388e-03 2.95046251e-03\n",
      " 2.08847260e-03 9.54943604e-04 2.24993584e-04 3.09727125e-03\n",
      " 3.19208292e-04 4.75984933e-03 2.19982340e-03 2.27570658e-03\n",
      " 1.45561356e-03 2.06140824e-03 1.12074475e-03 2.61212060e-03\n",
      " 2.37553352e-03 4.71907298e-05 4.51360991e-04 1.02921823e-03\n",
      " 1.52712590e-03 3.69125957e-04 1.04014017e-03 6.76021872e-04\n",
      " 2.15550757e-03 2.97981220e-03 4.06501531e-03 7.69128578e-04\n",
      " 3.45330693e-03 1.04707400e-03 1.35012718e-03 3.12235557e-03\n",
      " 8.57926342e-05 8.27054059e-05 3.09878016e-03 1.19131532e-03\n",
      " 2.99277060e-04 3.35441421e-03 2.26986100e-03 2.06508159e-03\n",
      " 2.32638615e-03 1.12100087e-03 1.23189891e-03 3.33654591e-03\n",
      " 7.34286534e-04 1.41718127e-03 2.30175558e-03 2.51157725e-03\n",
      " 8.52773700e-04 1.32211461e-03 6.63988945e-04 2.83957363e-04\n",
      " 7.94104112e-04 2.91886560e-04 2.10908590e-04 8.37834202e-04\n",
      " 1.85793243e-03 4.69960915e-04 1.35054164e-03 5.50963893e-04\n",
      " 5.78353810e-03 2.34551598e-03 7.53265136e-04 2.01658424e-04\n",
      " 1.12313187e-03 3.10328207e-03 1.73945838e-04 2.35538237e-03\n",
      " 3.03908594e-03 1.08508605e-03 1.54361840e-05 4.55541084e-04\n",
      " 4.65581566e-03 7.95836437e-05 4.10095824e-03 2.23512542e-03\n",
      " 2.70071028e-03 9.94618752e-04 2.71214106e-03 9.08760874e-06\n",
      " 2.36585605e-03 1.85542553e-03 3.82988435e-03 1.84315437e-03\n",
      " 2.84514079e-03 4.28163686e-03 2.49496858e-03 5.75779259e-04\n",
      " 2.14427422e-03 4.01391014e-03 1.76121399e-03 2.33578950e-03\n",
      " 2.80653605e-03 3.91643930e-03 2.53949332e-03 2.81483866e-03\n",
      " 2.29571136e-03 3.09626665e-03 3.59341798e-03 3.23052056e-03\n",
      " 4.08978215e-03 1.74498501e-03 3.38781165e-03 2.32797810e-03\n",
      " 3.15401865e-03 2.48360564e-03 4.50811357e-03 2.46936774e-03\n",
      " 1.89657666e-03 4.13170596e-03 2.61740022e-03 4.42608263e-03\n",
      " 3.60714317e-03 3.21787409e-03 1.34277540e-03 2.25261700e-03\n",
      " 2.40713117e-03 2.28524272e-03 2.32511006e-03 2.72648452e-03\n",
      " 5.64501757e-04 2.99452183e-03 2.00689293e-03 3.06065369e-03\n",
      " 1.99454906e-03 3.07162509e-03 3.18996238e-03 1.73328301e-03\n",
      " 5.52439756e-04 3.24537808e-03 9.60869586e-04 2.71695896e-03\n",
      " 1.58640979e-03 1.13804564e-03 2.22209676e-03 2.92449630e-03\n",
      " 2.03638470e-03 3.17791270e-03 2.39359328e-03 2.68930658e-03\n",
      " 3.41498784e-03 4.59611686e-05 3.61667864e-03 4.08900990e-03\n",
      " 4.50080886e-03 3.95805300e-03 1.06275547e-03 1.86227009e-03\n",
      " 2.85089888e-03 2.54110866e-03 2.55756349e-03 1.28121588e-03\n",
      " 4.62847119e-03 4.70077949e-04 2.05365343e-03 9.08279123e-03\n",
      " 3.05531161e-03 2.88129566e-03 1.93107386e-03 5.81556575e-03\n",
      " 5.61911519e-03 4.90192336e-03 1.92171981e-05 1.96780446e-03\n",
      " 6.63903668e-03 4.23222715e-03 4.59746647e-03 7.04946301e-06\n",
      " 5.11581544e-03 4.04116868e-03 1.33086561e-04 4.91905578e-03\n",
      " 1.69702867e-02 2.35256400e-02 5.84017191e-03 1.25556746e-02\n",
      " 6.73662405e-03 8.99175740e-03 1.20135251e-02 4.00088480e-03\n",
      " 8.78303080e-03 2.43383773e-02 1.15602142e-02 2.13906482e-02\n",
      " 1.06207076e-02 1.23442264e-02 4.19849624e-03 2.66549293e-03\n",
      " 1.42230005e-02 1.84627593e-02 8.85909185e-03 3.27802128e-03\n",
      " 7.15765006e-03 8.91384558e-03 7.72400798e-03 4.12234239e-03\n",
      " 1.17708198e-02 5.73630998e-05 4.45057081e-03 4.73929786e-03\n",
      " 7.29242797e-03 8.10855694e-03 1.03313548e-06 1.56690846e-02\n",
      " 1.71228186e-02 1.17968576e-02 5.36182435e-03 2.24000184e-02\n",
      " 1.67625528e-02 2.97276297e-03 1.53285603e-03 7.12483344e-03\n",
      " 6.35703934e-03 2.47169693e-03 5.48952680e-03 2.91560443e-03\n",
      " 2.23461614e-03 1.46380422e-03 5.41455564e-05 2.97197059e-03\n",
      " 3.20009783e-03 7.20796294e-03 1.05045061e-02 1.24650599e-02\n",
      " 1.74035082e-02 1.67043918e-02 1.04051375e-02 7.09043659e-03\n",
      " 3.62251882e-03 1.90204790e-05 6.67178910e-03 8.46327135e-03]\n"
     ]
    },
    {
     "data": {
      "image/png": "[encoded data removed]",
      "text/plain": [
       "<Figure size 432x288 with 1 Axes>"
      ]
     },
     "metadata": {
      "needs_background": "light"
     },
     "output_type": "display_data"
    }
   ],
   "source": [
    "# =============================================================================\n",
    "# Feature Importance - Extra Tree Classifier \n",
    "# =============================================================================\n",
    "from sklearn.ensemble import ExtraTreesClassifier\n",
    "model = ExtraTreesClassifier()\n",
    "model.fit(X,y)\n",
    "print(model.feature_importances_) #use inbuilt class feature_importances of tree based classifiers\n",
    "#plot graph of feature importances for better visualization\n",
    "feat_importances = pd.Series(model.feature_importances_, index=X.columns)\n",
    "feat_importances.nlargest(20).plot(kind='barh')\n",
    "plt.show()"
   ]
  },
  {
   "cell_type": "code",
   "execution_count": 77,
   "metadata": {},
   "outputs": [
    {
     "name": "stdout",
     "output_type": "stream",
     "text": [
      "<class 'pandas.core.frame.DataFrame'>\n",
      "RangeIndex: 270934 entries, 0 to 270933\n",
      "Data columns (total 14 columns):\n",
      "ACYEAR              270934 non-null category\n",
      "F_INSTID            270934 non-null category\n",
      "F_ZDLEV501          270934 non-null category\n",
      "F_XQMODE01          270934 non-null category\n",
      "F_XAGRPJ01          270934 non-null category\n",
      "F_SEXID             270934 non-null category\n",
      "f_XJACS01_1level    270934 non-null category\n",
      "F_XCL6SS01          270934 non-null category\n",
      "F_XSTUDIS01         270934 non-null category\n",
      "F_XQUALENT01        270934 non-null category\n",
      "F_TARIFF_numeric    270934 non-null category\n",
      "F_XACTIV02          270934 non-null category\n",
      "F_SOC               270934 non-null category\n",
      "F_XSIC202           270934 non-null category\n",
      "dtypes: category(14)\n",
      "memory usage: 3.9 MB\n"
     ]
    },
    {
     "ename": "KeyboardInterrupt",
     "evalue": "",
     "output_type": "error",
     "traceback": [
      "\u001b[1;31m---------------------------------------------------------------------------\u001b[0m",
      "\u001b[1;31mKeyboardInterrupt\u001b[0m                         Traceback (most recent call last)",
      "\u001b[1;32m<ipython-input-77-2264f066512d>\u001b[0m in \u001b[0;36m<module>\u001b[1;34m\u001b[0m\n\u001b[0;32m      5\u001b[0m \u001b[1;31m#apply SelectKBest class to extract top 40 best features\u001b[0m\u001b[1;33m\u001b[0m\u001b[1;33m\u001b[0m\u001b[1;33m\u001b[0m\u001b[0m\n\u001b[0;32m      6\u001b[0m \u001b[0mbestfeatures\u001b[0m \u001b[1;33m=\u001b[0m \u001b[0mSelectKBest\u001b[0m\u001b[1;33m(\u001b[0m\u001b[0mscore_func\u001b[0m\u001b[1;33m=\u001b[0m\u001b[0mchi2\u001b[0m\u001b[1;33m,\u001b[0m \u001b[0mk\u001b[0m\u001b[1;33m=\u001b[0m\u001b[1;34m'all'\u001b[0m\u001b[1;33m)\u001b[0m\u001b[1;33m\u001b[0m\u001b[1;33m\u001b[0m\u001b[0m\n\u001b[1;32m----> 7\u001b[1;33m \u001b[0mfit\u001b[0m \u001b[1;33m=\u001b[0m \u001b[0mbestfeatures\u001b[0m\u001b[1;33m.\u001b[0m\u001b[0mfit\u001b[0m\u001b[1;33m(\u001b[0m\u001b[0mX\u001b[0m\u001b[1;33m,\u001b[0m\u001b[0my\u001b[0m\u001b[1;33m)\u001b[0m\u001b[1;33m\u001b[0m\u001b[1;33m\u001b[0m\u001b[0m\n\u001b[0m\u001b[0;32m      8\u001b[0m \u001b[0mdfscores\u001b[0m \u001b[1;33m=\u001b[0m \u001b[0mpd\u001b[0m\u001b[1;33m.\u001b[0m\u001b[0mDataFrame\u001b[0m\u001b[1;33m(\u001b[0m\u001b[0mfit\u001b[0m\u001b[1;33m.\u001b[0m\u001b[0mscores_\u001b[0m\u001b[1;33m)\u001b[0m\u001b[1;33m\u001b[0m\u001b[1;33m\u001b[0m\u001b[0m\n\u001b[0;32m      9\u001b[0m \u001b[0mdfcolumns\u001b[0m \u001b[1;33m=\u001b[0m \u001b[0mpd\u001b[0m\u001b[1;33m.\u001b[0m\u001b[0mDataFrame\u001b[0m\u001b[1;33m(\u001b[0m\u001b[0mX\u001b[0m\u001b[1;33m.\u001b[0m\u001b[0mcolumns\u001b[0m\u001b[1;33m)\u001b[0m\u001b[1;33m\u001b[0m\u001b[1;33m\u001b[0m\u001b[0m\n",
      "\u001b[1;32m~\\Anaconda3\\lib\\site-packages\\sklearn\\feature_selection\\univariate_selection.py\u001b[0m in \u001b[0;36mfit\u001b[1;34m(self, X, y)\u001b[0m\n\u001b[0;32m    347\u001b[0m \u001b[1;33m\u001b[0m\u001b[0m\n\u001b[0;32m    348\u001b[0m         \u001b[0mself\u001b[0m\u001b[1;33m.\u001b[0m\u001b[0m_check_params\u001b[0m\u001b[1;33m(\u001b[0m\u001b[0mX\u001b[0m\u001b[1;33m,\u001b[0m \u001b[0my\u001b[0m\u001b[1;33m)\u001b[0m\u001b[1;33m\u001b[0m\u001b[1;33m\u001b[0m\u001b[0m\n\u001b[1;32m--> 349\u001b[1;33m         \u001b[0mscore_func_ret\u001b[0m \u001b[1;33m=\u001b[0m \u001b[0mself\u001b[0m\u001b[1;33m.\u001b[0m\u001b[0mscore_func\u001b[0m\u001b[1;33m(\u001b[0m\u001b[0mX\u001b[0m\u001b[1;33m,\u001b[0m \u001b[0my\u001b[0m\u001b[1;33m)\u001b[0m\u001b[1;33m\u001b[0m\u001b[1;33m\u001b[0m\u001b[0m\n\u001b[0m\u001b[0;32m    350\u001b[0m         \u001b[1;32mif\u001b[0m \u001b[0misinstance\u001b[0m\u001b[1;33m(\u001b[0m\u001b[0mscore_func_ret\u001b[0m\u001b[1;33m,\u001b[0m \u001b[1;33m(\u001b[0m\u001b[0mlist\u001b[0m\u001b[1;33m,\u001b[0m \u001b[0mtuple\u001b[0m\u001b[1;33m)\u001b[0m\u001b[1;33m)\u001b[0m\u001b[1;33m:\u001b[0m\u001b[1;33m\u001b[0m\u001b[1;33m\u001b[0m\u001b[0m\n\u001b[0;32m    351\u001b[0m             \u001b[0mself\u001b[0m\u001b[1;33m.\u001b[0m\u001b[0mscores_\u001b[0m\u001b[1;33m,\u001b[0m \u001b[0mself\u001b[0m\u001b[1;33m.\u001b[0m\u001b[0mpvalues_\u001b[0m \u001b[1;33m=\u001b[0m \u001b[0mscore_func_ret\u001b[0m\u001b[1;33m\u001b[0m\u001b[1;33m\u001b[0m\u001b[0m\n",
      "\u001b[1;32m~\\Anaconda3\\lib\\site-packages\\sklearn\\feature_selection\\univariate_selection.py\u001b[0m in \u001b[0;36mchi2\u001b[1;34m(X, y)\u001b[0m\n\u001b[0;32m    220\u001b[0m         \u001b[0mY\u001b[0m \u001b[1;33m=\u001b[0m \u001b[0mnp\u001b[0m\u001b[1;33m.\u001b[0m\u001b[0mappend\u001b[0m\u001b[1;33m(\u001b[0m\u001b[1;36m1\u001b[0m \u001b[1;33m-\u001b[0m \u001b[0mY\u001b[0m\u001b[1;33m,\u001b[0m \u001b[0mY\u001b[0m\u001b[1;33m,\u001b[0m \u001b[0maxis\u001b[0m\u001b[1;33m=\u001b[0m\u001b[1;36m1\u001b[0m\u001b[1;33m)\u001b[0m\u001b[1;33m\u001b[0m\u001b[1;33m\u001b[0m\u001b[0m\n\u001b[0;32m    221\u001b[0m \u001b[1;33m\u001b[0m\u001b[0m\n\u001b[1;32m--> 222\u001b[1;33m     \u001b[0mobserved\u001b[0m \u001b[1;33m=\u001b[0m \u001b[0msafe_sparse_dot\u001b[0m\u001b[1;33m(\u001b[0m\u001b[0mY\u001b[0m\u001b[1;33m.\u001b[0m\u001b[0mT\u001b[0m\u001b[1;33m,\u001b[0m \u001b[0mX\u001b[0m\u001b[1;33m)\u001b[0m          \u001b[1;31m# n_classes * n_features\u001b[0m\u001b[1;33m\u001b[0m\u001b[1;33m\u001b[0m\u001b[0m\n\u001b[0m\u001b[0;32m    223\u001b[0m \u001b[1;33m\u001b[0m\u001b[0m\n\u001b[0;32m    224\u001b[0m     \u001b[0mfeature_count\u001b[0m \u001b[1;33m=\u001b[0m \u001b[0mX\u001b[0m\u001b[1;33m.\u001b[0m\u001b[0msum\u001b[0m\u001b[1;33m(\u001b[0m\u001b[0maxis\u001b[0m\u001b[1;33m=\u001b[0m\u001b[1;36m0\u001b[0m\u001b[1;33m)\u001b[0m\u001b[1;33m.\u001b[0m\u001b[0mreshape\u001b[0m\u001b[1;33m(\u001b[0m\u001b[1;36m1\u001b[0m\u001b[1;33m,\u001b[0m \u001b[1;33m-\u001b[0m\u001b[1;36m1\u001b[0m\u001b[1;33m)\u001b[0m\u001b[1;33m\u001b[0m\u001b[1;33m\u001b[0m\u001b[0m\n",
      "\u001b[1;32m~\\Anaconda3\\lib\\site-packages\\sklearn\\utils\\extmath.py\u001b[0m in \u001b[0;36msafe_sparse_dot\u001b[1;34m(a, b, dense_output)\u001b[0m\n\u001b[0;32m    140\u001b[0m         \u001b[1;32mreturn\u001b[0m \u001b[0mret\u001b[0m\u001b[1;33m\u001b[0m\u001b[1;33m\u001b[0m\u001b[0m\n\u001b[0;32m    141\u001b[0m     \u001b[1;32melse\u001b[0m\u001b[1;33m:\u001b[0m\u001b[1;33m\u001b[0m\u001b[1;33m\u001b[0m\u001b[0m\n\u001b[1;32m--> 142\u001b[1;33m         \u001b[1;32mreturn\u001b[0m \u001b[0mnp\u001b[0m\u001b[1;33m.\u001b[0m\u001b[0mdot\u001b[0m\u001b[1;33m(\u001b[0m\u001b[0ma\u001b[0m\u001b[1;33m,\u001b[0m \u001b[0mb\u001b[0m\u001b[1;33m)\u001b[0m\u001b[1;33m\u001b[0m\u001b[1;33m\u001b[0m\u001b[0m\n\u001b[0m\u001b[0;32m    143\u001b[0m \u001b[1;33m\u001b[0m\u001b[0m\n\u001b[0;32m    144\u001b[0m \u001b[1;33m\u001b[0m\u001b[0m\n",
      "\u001b[1;31mKeyboardInterrupt\u001b[0m: "
     ]
    }
   ],
   "source": [
    "# =============================================================================\n",
    "# Univariate Selection\n",
    "# =============================================================================\n",
    "df.info()\n",
    "#apply SelectKBest class to extract top 40 best features\n",
    "bestfeatures = SelectKBest(score_func=chi2, k='all')\n",
    "fit = bestfeatures.fit(X,y)\n",
    "dfscores = pd.DataFrame(fit.scores_)\n",
    "dfcolumns = pd.DataFrame(X.columns)\n",
    "#concat two dataframes for better visualization \n",
    "featureScores = pd.concat([dfcolumns,dfscores],axis=1)\n",
    "featureScores.columns = ['Specs','Score']  #naming the dataframe columns\n",
    "print(featureScores.nlargest(40,'Score'))  #print 40 best features"
   ]
  },
  {
   "cell_type": "code",
   "execution_count": null,
   "metadata": {},
   "outputs": [],
   "source": []
  }
 ],
 "metadata": {
  "kernelspec": {
   "display_name": "Python 3",
   "language": "python",
   "name": "python3"
  },
  "language_info": {
   "codemirror_mode": {
    "name": "ipython",
    "version": 3
   },
   "file_extension": ".py",
   "mimetype": "text/x-python",
   "name": "python",
   "nbconvert_exporter": "python",
   "pygments_lexer": "ipython3",
   "version": "3.7.4"
  }
 },
 "nbformat": 4,
 "nbformat_minor": 2
}
